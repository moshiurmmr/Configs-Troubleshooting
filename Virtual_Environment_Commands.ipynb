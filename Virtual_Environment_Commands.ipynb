{
 "cells": [
  {
   "cell_type": "markdown",
   "metadata": {},
   "source": [
    "# Virtual Environment Commands"
   ]
  },
  {
   "cell_type": "markdown",
   "metadata": {},
   "source": [
    "## Install a Virtual Environment"
   ]
  },
  {
   "cell_type": "markdown",
   "metadata": {},
   "source": [
    "1. Install virtualenv using pip3\n",
    "\n",
    "$\tpip3\tinstall\t--user\t--upgrade\tvirtualenv"
   ]
  },
  {
   "cell_type": "markdown",
   "metadata": {},
   "source": [
    "2. To create an isolated Python environment\n",
    "\n",
    "  i. go to the directory, $ cd \"virtualenv_dir\"\n",
    "  \n",
    "  ii. $\tvirtualenv env ('env' can be any name of your choice)\n",
    "  \n",
    "  iii. for creating a virtualenv with any particular Pyhton version \n",
    "  \n",
    "       $virtualenv -p /usr/bin/python3.6 env # here we are using Python 3.6"
   ]
  },
  {
   "cell_type": "markdown",
   "metadata": {},
   "source": [
    "## Activate, Deactivate and Delete a Virtual Environment"
   ]
  },
  {
   "cell_type": "markdown",
   "metadata": {},
   "source": [
    "1. a. To activate the virtualenv\n",
    "      i. go to the folder, $ cd \"virtualenv_dir\"\n",
    "      \n",
    "      ii. activate the virtualenv, $source env/bin/activate\n",
    "      \n",
    "   b. To deactivate the virtualenv\n",
    "   \n",
    "      $ source deactivate\n",
    "  "
   ]
  },
  {
   "cell_type": "markdown",
   "metadata": {},
   "source": [
    "2. To deacivate a virtualenv use, \n",
    "\n",
    "    $ source deactivate \"virtualenv_name\"\n"
   ]
  },
  {
   "cell_type": "markdown",
   "metadata": {},
   "source": [
    "3. To delete a virtualenv, \n",
    "\n",
    "    $rm -rf \"virtualenv name\""
   ]
  },
  {
   "cell_type": "markdown",
   "metadata": {},
   "source": [
    "## Conda commands\n",
    "1. To list virtualenv in conda use any of the following two commands\n",
    "\n",
    "    i. $conda env list\n",
    "    \n",
    "    ii. $conda info --envs"
   ]
  },
  {
   "cell_type": "markdown",
   "metadata": {},
   "source": [
    "2. create a virtualenv with a specific Python version\n",
    "\n",
    " $conda create -n <virualenv name> python=<python_version> anaconda"
   ]
  },
  {
   "cell_type": "markdown",
   "metadata": {},
   "source": [
    "3. To acivate a virtualenv use, $ source activate <virtualenv_name>\n"
   ]
  },
  {
   "cell_type": "markdown",
   "metadata": {},
   "source": [
    "4. update anaconda, \n",
    "\n",
    "    $conda update -n base -c defaults conda"
   ]
  },
  {
   "cell_type": "code",
   "execution_count": null,
   "metadata": {},
   "outputs": [],
   "source": []
  }
 ],
 "metadata": {
  "kernelspec": {
   "display_name": "Python 3",
   "language": "python",
   "name": "python3"
  },
  "language_info": {
   "codemirror_mode": {
    "name": "ipython",
    "version": 3
   },
   "file_extension": ".py",
   "mimetype": "text/x-python",
   "name": "python",
   "nbconvert_exporter": "python",
   "pygments_lexer": "ipython3",
   "version": "3.6.9"
  }
 },
 "nbformat": 4,
 "nbformat_minor": 4
}
